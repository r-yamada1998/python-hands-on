{
 "cells": [
  {
   "cell_type": "markdown",
   "metadata": {},
   "source": [
    "# 基本課題"
   ]
  },
  {
   "cell_type": "markdown",
   "metadata": {},
   "source": [
    "#### 1. 任意の文字列 (xxx) を標準入力で受け取り，\"Hello, xxx!\" と出力せよ。"
   ]
  },
  {
   "cell_type": "code",
   "execution_count": 1,
   "metadata": {},
   "outputs": [
    {
     "name": "stdin",
     "output_type": "stream",
     "text": [
      " dog\n"
     ]
    },
    {
     "name": "stdout",
     "output_type": "stream",
     "text": [
      "Hello dog\n"
     ]
    }
   ],
   "source": [
    "x=input()\n",
    "print(\"Hello\",x)"
   ]
  },
  {
   "cell_type": "code",
   "execution_count": null,
   "metadata": {},
   "outputs": [],
   "source": [
    "#### 2. 任意の整数を標準入力で受け取り，\"100\" との和差積商を出力せよ。"
   ]
  },
  {
   "cell_type": "code",
   "execution_count": 26,
   "metadata": {},
   "outputs": [
    {
     "name": "stdin",
     "output_type": "stream",
     "text": [
      "Please enter Number 40\n"
     ]
    },
    {
     "name": "stdout",
     "output_type": "stream",
     "text": [
      "和= 140 差= -60 積= 4000 商= 0.4\n"
     ]
    }
   ],
   "source": [
    "x=int(input (\"Please enter Number\"))\n",
    "\n",
    "y=100\n",
    "a=x+y\n",
    "b=x-y\n",
    "c=x*y\n",
    "d=x/y\n",
    "\n",
    "print(\"和=\",a,\"差=\",b,\"積=\",c,\"商=\",d)\n",
    "\n",
    "\n"
   ]
  },
  {
   "cell_type": "markdown",
   "metadata": {},
   "source": [
    "#### 3. 1から50のリストを作って，その最大値，最小値，合計値，平均値を出力せよ。"
   ]
  },
  {
   "cell_type": "code",
   "execution_count": 45,
   "metadata": {},
   "outputs": [
    {
     "name": "stdout",
     "output_type": "stream",
     "text": [
      "最大値 50\n",
      "最小値 1\n",
      "合計値 1275\n",
      "平均値 25.5\n"
     ]
    }
   ],
   "source": [
    "#1から50までのリストを作成\n",
    "x=list(range(1,51))\n",
    "#最大値，最小値，合計値を計算\n",
    "a=int(max(x))\n",
    "b=int(min(x))\n",
    "c=int(sum(x))\n",
    "#最大値，最小値，合計値を表示\n",
    "print(\"最大値\",a)\n",
    "print(\"最小値\",b)\n",
    "print(\"合計値\",c)\n",
    "\n",
    "#len関数を用いて文字列の数を数える\n",
    "d=len(x)\n",
    "#合計値を文字列の数で割って平均値を計算\n",
    "\n",
    "e=c/d\n",
    "print(\"平均値\",e)\n"
   ]
  },
  {
   "cell_type": "code",
   "execution_count": null,
   "metadata": {},
   "outputs": [],
   "source": []
  },
  {
   "cell_type": "markdown",
   "metadata": {},
   "source": [
    "#### 4. 3. で作ったリストに 51から100のリストを追加せよ。また，そのリストから30から70までの偶数要素のみを出力せよ。"
   ]
  },
  {
   "cell_type": "code",
   "execution_count": 149,
   "metadata": {},
   "outputs": [
    {
     "name": "stdout",
     "output_type": "stream",
     "text": [
      "30\n",
      "32\n",
      "34\n",
      "36\n",
      "38\n",
      "40\n",
      "42\n",
      "44\n",
      "46\n",
      "48\n",
      "50\n",
      "52\n",
      "54\n",
      "56\n",
      "58\n",
      "60\n",
      "62\n",
      "64\n",
      "66\n",
      "68\n",
      "70\n"
     ]
    }
   ],
   "source": [
    "#３で作ったリスト\n",
    "x=(list(range(1,51)))\n",
    "#追加のリスト\n",
    "y=(list(range(52,101)))\n",
    "\n",
    "#リストの追加\n",
    "z=x+y\n",
    "\n",
    "#偶数のみを抜き出す関数を定義\n",
    "def is_odd(n):\n",
    "    return(n%2)==0\n",
    "\n",
    "#文字列から偶数をfilter\n",
    "w=filter(is_odd,z)\n",
    "\n",
    "#30から70までの要素のみを取り出して出力\n",
    "for h in w: \n",
    "    if 29<h<71:\n",
    "        print(h)\n",
    "\n",
    "\n",
    "    \n",
    "    \n",
    "\n",
    "\n"
   ]
  },
  {
   "cell_type": "markdown",
   "metadata": {},
   "source": [
    "#### 5. 講習参加者の姓を key, 学年を value とする辞書を作り，全要素を for 文を用いて出力せよ。"
   ]
  },
  {
   "cell_type": "code",
   "execution_count": 170,
   "metadata": {},
   "outputs": [
    {
     "name": "stdout",
     "output_type": "stream",
     "text": [
      "大久保 学年 4 年\n",
      "関 学年 4 年\n",
      "萩本 学年 4 年\n",
      "松英 学年 4 年\n",
      "松田 学年 4 年\n",
      "山田 学年 4 年\n"
     ]
    }
   ],
   "source": [
    "dict={\"大久保\":4 ,\"関\":4,\"萩本\":4,\"松英\":4,\"松田\":4,\"山田\":4}\n",
    "for i,j in dict.items():\n",
    "        print(i,\"学年\",j,\"年\")\n",
    "        "
   ]
  },
  {
   "cell_type": "markdown",
   "metadata": {},
   "source": [
    "#### 6. 1から100の範囲で，3で割り切れる場合は\"Fizz\"，5で割り切れる場合は\"Buzz\"，そのどちらでも割り切れる場合は\"FizzBuzz\"，いずれでもない場合はそのまま数字を出力せよ。\n",
    "##### 出力例\n",
    "```bash\n",
    "1, 2, \"Fizz\", 4, \"Buzz\", \"Fizz\", ..., 14, \"FizzBuzz\", 16, ...\n",
    "```"
   ]
  },
  {
   "cell_type": "code",
   "execution_count": 22,
   "metadata": {},
   "outputs": [
    {
     "name": "stdout",
     "output_type": "stream",
     "text": [
      "1\n",
      "2\n",
      "Fizz\n",
      "4\n",
      "Buzz\n",
      "Fizz\n",
      "7\n",
      "8\n",
      "Fizz\n",
      "Buzz\n",
      "11\n",
      "Fizz\n",
      "13\n",
      "14\n",
      "FizzBuzz\n",
      "16\n",
      "17\n",
      "Fizz\n",
      "19\n",
      "Buzz\n",
      "Fizz\n",
      "22\n",
      "23\n",
      "Fizz\n",
      "Buzz\n",
      "26\n",
      "Fizz\n",
      "28\n",
      "29\n",
      "FizzBuzz\n",
      "31\n",
      "32\n",
      "Fizz\n",
      "34\n",
      "Buzz\n",
      "Fizz\n",
      "37\n",
      "38\n",
      "Fizz\n",
      "Buzz\n",
      "41\n",
      "Fizz\n",
      "43\n",
      "44\n",
      "FizzBuzz\n",
      "46\n",
      "47\n",
      "Fizz\n",
      "49\n",
      "Buzz\n",
      "Fizz\n",
      "52\n",
      "53\n",
      "Fizz\n",
      "Buzz\n",
      "56\n",
      "Fizz\n",
      "58\n",
      "59\n",
      "FizzBuzz\n",
      "61\n",
      "62\n",
      "Fizz\n",
      "64\n",
      "Buzz\n",
      "Fizz\n",
      "67\n",
      "68\n",
      "Fizz\n",
      "Buzz\n",
      "71\n",
      "Fizz\n",
      "73\n",
      "74\n",
      "FizzBuzz\n",
      "76\n",
      "77\n",
      "Fizz\n",
      "79\n",
      "Buzz\n",
      "Fizz\n",
      "82\n",
      "83\n",
      "Fizz\n",
      "Buzz\n",
      "86\n",
      "Fizz\n",
      "88\n",
      "89\n",
      "FizzBuzz\n",
      "91\n",
      "92\n",
      "Fizz\n",
      "94\n",
      "Buzz\n",
      "Fizz\n",
      "97\n",
      "98\n",
      "Fizz\n",
      "Buzz\n"
     ]
    }
   ],
   "source": [
    "x=list(range(1,101))\n",
    "for i in x:\n",
    "    if i%15==0: #はじめにどちらでも割り切れる場合を出力\n",
    "        print(\"FizzBuzz\")\n",
    "    elif i%3==0: #3で割り切れる場合を出力\n",
    "        print(\"Fizz\")\n",
    "    elif i%5==0: #5で割り切れる場合を出力\n",
    "        print(\"Buzz\")\n",
    "    else:\n",
    "        print(i)"
   ]
  },
  {
   "cell_type": "code",
   "execution_count": null,
   "metadata": {},
   "outputs": [],
   "source": []
  },
  {
   "cell_type": "markdown",
   "metadata": {},
   "source": [
    "#### 7.　2つの自然数の最大公約数を求める関数を実装せよ。"
   ]
  },
  {
   "cell_type": "code",
   "execution_count": null,
   "metadata": {},
   "outputs": [],
   "source": [
    "def gcd(s,t):\n",
    "    \"\"\"\n",
    "    最大公約数を求める\n",
    "    \n",
    "    parameters\n",
    "    --------------\n",
    "    s,t:int 任意の自然数\n",
    "    \n",
    "    Returns\n",
    "    --------------\n",
    "    最大公約数\n",
    "    \"\"\"\n",
    "    \n",
    "    x=max(s,t)\n",
    "    y=min(s,t)\n",
    "    if x%y==0:\n",
    "        return y\n",
    "    else:\n",
    "        while x%y!=0:\n",
    "            z=x%y\n",
    "            x=y\n",
    "            y=z\n",
    "        else:\n",
    "            return z\n",
    "        \n",
    "s=int(input())\n",
    "t=int(input())        \n",
    "print(\"最大公約数\",gcd(s,t)) "
   ]
  },
  {
   "cell_type": "markdown",
   "metadata": {},
   "source": [
    "#### 8. `address-tab.txt`を読み込み，先頭から５行のみを出力せよ。また，タブをスペースに変換した結果を `address-space.txt` に書き込め。"
   ]
  },
  {
   "cell_type": "code",
   "execution_count": 26,
   "metadata": {},
   "outputs": [
    {
     "name": "stdout",
     "output_type": "stream",
     "text": [
      "<class 'list'>\n",
      "0:愛知県名古屋市守山区\t桔梗平\n",
      "1:富山県砺波市\t大窪\n",
      "2:島根県邑智郡美郷町\t久保\n",
      "3:愛知県稲沢市\t横地\n",
      "4:宮城県栗原市\t高清水下折木\n",
      "['愛知県名古屋市守山区\\t桔梗平', '富山県砺波市\\t大窪', '島根県邑智郡美郷町\\t久保', '愛知県稲沢市\\t横地', '宮城県栗原市\\t高清水下折木', '京都府京都市北区\\t北野東紅梅町', '兵庫県明石市\\t大明石町', '茨城県つくば市\\t羽成', '徳島県美馬郡つるぎ町\\t一宇', '滋賀県長浜市\\t高田町', '富山県砺波市\\t高道', '大阪府交野市\\t寺南野', '新潟県長岡市\\t関東町', '埼玉県熊谷市\\t西別府', '愛媛県松山市\\t来住町', '静岡県下田市\\t武ガ浜', '石川県白山市\\t日向町', '福井県小浜市\\t新小松原', '栃木県日光市\\t宝殿', '新潟県三島郡出雲崎町\\t神条', '']\n"
     ]
    }
   ],
   "source": [
    "f = open('address-tab.txt','r')\n",
    "    \n",
    "text1=f.read()\n",
    "\n",
    "g=text1.split(\"\\n\")\n",
    "print(type(g))\n",
    "\n",
    "for i in range(len(g)):\n",
    "    if -1<i<5:\n",
    "        print('{0}:{1}'.format(i,g[i]))        \n",
    "        \n",
    "address=open(\"address.txt\",\"a\") \n",
    "address.write(text1)\n",
    "address.close()            \n",
    "s = open('address.txt','r')\n",
    "    \n",
    "text2=s.read()\n",
    "h=text2.split(\"\\n\")\n",
    "print(h)\n",
    "#!rm address.txt"
   ]
  },
  {
   "cell_type": "markdown",
   "metadata": {},
   "source": [
    "#### 9. モンテカルロ法 (10,000点) を用いて円周率の近似値を求めよ。なお `NumPy` を用いること。\n",
    "\n",
    "> 参考：[NumPy 公式サイト](https://docs.scipy.org/doc/numpy/)"
   ]
  },
  {
   "cell_type": "code",
   "execution_count": 30,
   "metadata": {},
   "outputs": [
    {
     "name": "stderr",
     "output_type": "stream",
     "text": [
      "/Users/r.yamada/python-hands-on/basic/.venv/lib/python3.7/site-packages/ipykernel_launcher.py:17: DeprecationWarning: time.clock has been deprecated in Python 3.3 and will be removed from Python 3.8: use time.perf_counter or time.process_time instead\n"
     ]
    },
    {
     "name": "stdout",
     "output_type": "stream",
     "text": [
      "試行回数: 1000000\n",
      "実行時間： 0.36257800000000096\n",
      "円周率: 3.14248\n"
     ]
    },
    {
     "name": "stderr",
     "output_type": "stream",
     "text": [
      "/Users/r.yamada/python-hands-on/basic/.venv/lib/python3.7/site-packages/ipykernel_launcher.py:26: DeprecationWarning: time.clock has been deprecated in Python 3.3 and will be removed from Python 3.8: use time.perf_counter or time.process_time instead\n"
     ]
    }
   ],
   "source": [
    "import random\n",
    "import time\n",
    "\n",
    "def monte_method(N = 100000):\n",
    "    point = 0\n",
    "    for i in range(N):\n",
    "        x = random.random()\n",
    "        y = random.random()\n",
    "        if x*x+y*y < 1.0:\n",
    "            point += 1\n",
    "\n",
    "    # 円周率の近似解\n",
    "    pi = 4.0 * point / N\n",
    "    return pi\n",
    "\n",
    "\n",
    "start_time = time.clock() \n",
    "\n",
    "# 試行回数\n",
    "N = 1000000\n",
    "\n",
    "# モンテカルロ法\n",
    "pi = monte_method(N)\n",
    "\n",
    "# 実行時間を計算\n",
    "end_time = time.clock() \n",
    "run_time = end_time - start_time\n",
    "\n",
    "# 実行結果\n",
    "print(\"試行回数:\", N) # 試行回数: 10000000\n",
    "print(\"実行時間：\", run_time) # 3.1853431999999997[sec]\n",
    "print(\"円周率:\", pi) # 円周率: 3.1418236\n",
    "\n"
   ]
  },
  {
   "cell_type": "markdown",
   "metadata": {},
   "source": [
    "#### 10. 以下のセルを実行して得られるデータ **(freq, spec)** を `Matplotlib` を用いて描画せよ。なお，タイトル，ラベル，凡例もつけること。\n",
    "\n",
    "> 参考：[Matplotlib 公式サイト](https://matplotlib.org/)"
   ]
  },
  {
   "cell_type": "code",
   "execution_count": 21,
   "metadata": {},
   "outputs": [
    {
     "data": {
      "text/plain": [
       "<matplotlib.legend.Legend at 0x10f131438>"
      ]
     },
     "execution_count": 21,
     "metadata": {},
     "output_type": "execute_result"
    },
    {
     "data": {
      "image/png": "[encoded data removed]",
      "text/plain": [
       "<Figure size 432x288 with 1 Axes>"
      ]
     },
     "metadata": {
      "needs_background": "light"
     },
     "output_type": "display_data"
    }
   ],
   "source": [
    "import numpy as np\n",
    "\n",
    "SAMP_NUM = 256\n",
    "SAMP_INT = 0.01\n",
    "\n",
    "f1, f2 = 10, 20\n",
    "t = np.arange(0, SAMP_NUM * SAMP_INT, SAMP_INT)\n",
    "signal = np.sin(2*np.pi*f1*t) + np.sin(2*np.pi*f2*t) + np.random.randn(SAMP_NUM)\n",
    "freq = np.linspace(0, 1.0/SAMP_INT, SAMP_NUM)\n",
    "spec = np.abs(np.fft.fft(signal))\n",
    "\n",
    "import matplotlib.pyplot as plt\n",
    "%matplotlib inline\n",
    "plt.plot(freq,spec,label=\"lavel\")\n",
    "plt.title(\"python lecture number 10\")\n",
    "plt.xlabel(\"x freq\")\n",
    "plt.ylabel(\"y spec\")\n",
    "plt.xlim(0,50)\n",
    "plt.legend()"
   ]
  },
  {
   "cell_type": "code",
   "execution_count": 4,
   "metadata": {},
   "outputs": [
    {
     "data": {
      "text/plain": [
       "array([0.  , 0.01, 0.02, 0.03, 0.04, 0.05, 0.06, 0.07, 0.08, 0.09, 0.1 ,\n",
       "       0.11, 0.12, 0.13, 0.14, 0.15, 0.16, 0.17, 0.18, 0.19, 0.2 , 0.21,\n",
       "       0.22, 0.23, 0.24, 0.25, 0.26, 0.27, 0.28, 0.29, 0.3 , 0.31, 0.32,\n",
       "       0.33, 0.34, 0.35, 0.36, 0.37, 0.38, 0.39, 0.4 , 0.41, 0.42, 0.43,\n",
       "       0.44, 0.45, 0.46, 0.47, 0.48, 0.49, 0.5 , 0.51, 0.52, 0.53, 0.54,\n",
       "       0.55, 0.56, 0.57, 0.58, 0.59, 0.6 , 0.61, 0.62, 0.63, 0.64, 0.65,\n",
       "       0.66, 0.67, 0.68, 0.69, 0.7 , 0.71, 0.72, 0.73, 0.74, 0.75, 0.76,\n",
       "       0.77, 0.78, 0.79, 0.8 , 0.81, 0.82, 0.83, 0.84, 0.85, 0.86, 0.87,\n",
       "       0.88, 0.89, 0.9 , 0.91, 0.92, 0.93, 0.94, 0.95, 0.96, 0.97, 0.98,\n",
       "       0.99, 1.  , 1.01, 1.02, 1.03, 1.04, 1.05, 1.06, 1.07, 1.08, 1.09,\n",
       "       1.1 , 1.11, 1.12, 1.13, 1.14, 1.15, 1.16, 1.17, 1.18, 1.19, 1.2 ,\n",
       "       1.21, 1.22, 1.23, 1.24, 1.25, 1.26, 1.27, 1.28, 1.29, 1.3 , 1.31,\n",
       "       1.32, 1.33, 1.34, 1.35, 1.36, 1.37, 1.38, 1.39, 1.4 , 1.41, 1.42,\n",
       "       1.43, 1.44, 1.45, 1.46, 1.47, 1.48, 1.49, 1.5 , 1.51, 1.52, 1.53,\n",
       "       1.54, 1.55, 1.56, 1.57, 1.58, 1.59, 1.6 , 1.61, 1.62, 1.63, 1.64,\n",
       "       1.65, 1.66, 1.67, 1.68, 1.69, 1.7 , 1.71, 1.72, 1.73, 1.74, 1.75,\n",
       "       1.76, 1.77, 1.78, 1.79, 1.8 , 1.81, 1.82, 1.83, 1.84, 1.85, 1.86,\n",
       "       1.87, 1.88, 1.89, 1.9 , 1.91, 1.92, 1.93, 1.94, 1.95, 1.96, 1.97,\n",
       "       1.98, 1.99, 2.  , 2.01, 2.02, 2.03, 2.04, 2.05, 2.06, 2.07, 2.08,\n",
       "       2.09, 2.1 , 2.11, 2.12, 2.13, 2.14, 2.15, 2.16, 2.17, 2.18, 2.19,\n",
       "       2.2 , 2.21, 2.22, 2.23, 2.24, 2.25, 2.26, 2.27, 2.28, 2.29, 2.3 ,\n",
       "       2.31, 2.32, 2.33, 2.34, 2.35, 2.36, 2.37, 2.38, 2.39, 2.4 , 2.41,\n",
       "       2.42, 2.43, 2.44, 2.45, 2.46, 2.47, 2.48, 2.49, 2.5 , 2.51, 2.52,\n",
       "       2.53, 2.54, 2.55])"
      ]
     },
     "execution_count": 4,
     "metadata": {},
     "output_type": "execute_result"
    }
   ],
   "source": [
    "import numpy as np\n",
    "np.arange(0,2.56,0.01)"
   ]
  },
  {
   "cell_type": "markdown",
   "metadata": {},
   "source": [
    "#### Bonus : 10. と同様のグラフを `Bokeh` を用いて描画せよ。（Note: `Bokeh` はインストールされてない。）\n",
    "> 参考：[Bokeh 公式サイト](https://bokeh.pydata.org/en/latest/)"
   ]
  },
  {
   "cell_type": "code",
   "execution_count": 1,
   "metadata": {},
   "outputs": [
    {
     "ename": "ModuleNotFoundError",
     "evalue": "No module named 'bokeh'",
     "output_type": "error",
     "traceback": [
      "\u001b[0;31m---------------------------------------------------------------------------\u001b[0m",
      "\u001b[0;31mModuleNotFoundError\u001b[0m                       Traceback (most recent call last)",
      "\u001b[0;32m<ipython-input-1-0674e6360586>\u001b[0m in \u001b[0;36m<module>\u001b[0;34m\u001b[0m\n\u001b[1;32m      1\u001b[0m \u001b[0;32mimport\u001b[0m \u001b[0mnumpy\u001b[0m \u001b[0;32mas\u001b[0m \u001b[0mnp\u001b[0m\u001b[0;34m\u001b[0m\u001b[0;34m\u001b[0m\u001b[0m\n\u001b[0;32m----> 2\u001b[0;31m \u001b[0;32mfrom\u001b[0m \u001b[0mbokeh\u001b[0m\u001b[0;34m.\u001b[0m\u001b[0mplotting\u001b[0m \u001b[0;32mimport\u001b[0m \u001b[0mfigure\u001b[0m\u001b[0;34m\u001b[0m\u001b[0;34m\u001b[0m\u001b[0m\n\u001b[0m\u001b[1;32m      3\u001b[0m \u001b[0;34m\u001b[0m\u001b[0m\n\u001b[1;32m      4\u001b[0m \u001b[0mSAMP_NUM\u001b[0m \u001b[0;34m=\u001b[0m \u001b[0;36m256\u001b[0m\u001b[0;34m\u001b[0m\u001b[0;34m\u001b[0m\u001b[0m\n\u001b[1;32m      5\u001b[0m \u001b[0mSAMP_INT\u001b[0m \u001b[0;34m=\u001b[0m \u001b[0;36m0.01\u001b[0m\u001b[0;34m\u001b[0m\u001b[0;34m\u001b[0m\u001b[0m\n",
      "\u001b[0;31mModuleNotFoundError\u001b[0m: No module named 'bokeh'"
     ]
    }
   ],
   "source": [
    "import numpy as np\n",
    "from bokeh.plotting import figure\n",
    "\n",
    "SAMP_NUM = 256\n",
    "SAMP_INT = 0.01\n",
    "\n",
    "f1, f2 = 10, 20\n",
    "t = np.arange(0, SAMP_NUM * SAMP_INT, SAMP_INT)\n",
    "signal = np.sin(2*np.pi*f1*t) + np.sin(2*np.pi*f2*t) + np.random.randn(SAMP_NUM)\n",
    "freq = np.linspace(0, 1.0/SAMP_INT, SAMP_NUM)\n",
    "spec = np.abs(np.fft.fft(signal))\n",
    "\n"
   ]
  },
  {
   "cell_type": "code",
   "execution_count": 2,
   "metadata": {},
   "outputs": [
    {
     "ename": "ModuleNotFoundError",
     "evalue": "No module named 'bokeh'",
     "output_type": "error",
     "traceback": [
      "\u001b[0;31m---------------------------------------------------------------------------\u001b[0m",
      "\u001b[0;31mModuleNotFoundError\u001b[0m                       Traceback (most recent call last)",
      "\u001b[0;32m<ipython-input-2-b6738774a9d6>\u001b[0m in \u001b[0;36m<module>\u001b[0;34m\u001b[0m\n\u001b[0;32m----> 1\u001b[0;31m \u001b[0;32mimport\u001b[0m \u001b[0mbokeh\u001b[0m\u001b[0;34m\u001b[0m\u001b[0;34m\u001b[0m\u001b[0m\n\u001b[0m",
      "\u001b[0;31mModuleNotFoundError\u001b[0m: No module named 'bokeh'"
     ]
    }
   ],
   "source": [
    "import bokeh"
   ]
  },
  {
   "cell_type": "code",
   "execution_count": null,
   "metadata": {},
   "outputs": [],
   "source": []
  }
 ],
 "metadata": {
  "kernelspec": {
   "display_name": "Python 3",
   "language": "python",
   "name": "python3"
  },
  "language_info": {
   "codemirror_mode": {
    "name": "ipython",
    "version": 3
   },
   "file_extension": ".py",
   "mimetype": "text/x-python",
   "name": "python",
   "nbconvert_exporter": "python",
   "pygments_lexer": "ipython3",
   "version": "3.7.2"
  }
 },
 "nbformat": 4,
 "nbformat_minor": 2
}
